{
 "cells": [
  {
   "cell_type": "markdown",
   "metadata": {},
   "source": [
    "Import all required libraries and packages"
   ]
  },
  {
   "cell_type": "code",
   "execution_count": null,
   "metadata": {},
   "outputs": [],
   "source": [
    "import sys\n",
    "import kaggle"
   ]
  },
  {
   "cell_type": "markdown",
   "metadata": {},
   "source": [
    "Define all paths and environment variables"
   ]
  },
  {
   "cell_type": "code",
   "execution_count": null,
   "metadata": {},
   "outputs": [],
   "source": [
    "DIR_NAME = \"/Users/nikolaynechay/Deloitte/Scanned-Documents-Processing\"\n",
    "sys.path.append(DIR_NAME)\n",
    "\n",
    "kaggle.api.authenticate()"
   ]
  },
  {
   "cell_type": "markdown",
   "metadata": {},
   "source": [
    "Import all required modules"
   ]
  },
  {
   "cell_type": "code",
   "execution_count": 11,
   "metadata": {},
   "outputs": [],
   "source": [
    "from src.core.providers.data_provider import KaggleDataProvider"
   ]
  },
  {
   "cell_type": "markdown",
   "metadata": {},
   "source": [
    "Download the dataset through Kaggle API and custom data provider"
   ]
  },
  {
   "cell_type": "code",
   "execution_count": 16,
   "metadata": {},
   "outputs": [
    {
     "name": "stdout",
     "output_type": "stream",
     "text": [
      "Dataset URL: https://www.kaggle.com/datasets/aravindram11/funsdform-understanding-noisy-scanned-documents\n"
     ]
    },
    {
     "name": "stderr",
     "output_type": "stream",
     "text": [
      "INFO:src.core.providers.data_provider:Dataset aravindram11/funsdform-understanding-noisy-scanned-documents downloaded and extracted to /Users/nikolaynechay/Deloitte/Scanned-Documents-Processing/data/raw\n"
     ]
    }
   ],
   "source": [
    "data_provider = KaggleDataProvider(\n",
    "    dataset=\"aravindram11/funsdform-understanding-noisy-scanned-documents\",\n",
    "    data_dir=\"/Users/nikolaynechay/Deloitte/Scanned-Documents-Processing/data/raw\"\n",
    ")\n",
    "\n",
    "data_provider.download()"
   ]
  },
  {
   "cell_type": "code",
   "execution_count": null,
   "metadata": {},
   "outputs": [],
   "source": []
  }
 ],
 "metadata": {
  "kernelspec": {
   "display_name": "ocrenv",
   "language": "python",
   "name": "python3"
  },
  "language_info": {
   "codemirror_mode": {
    "name": "ipython",
    "version": 3
   },
   "file_extension": ".py",
   "mimetype": "text/x-python",
   "name": "python",
   "nbconvert_exporter": "python",
   "pygments_lexer": "ipython3",
   "version": "3.13.5"
  }
 },
 "nbformat": 4,
 "nbformat_minor": 2
}
